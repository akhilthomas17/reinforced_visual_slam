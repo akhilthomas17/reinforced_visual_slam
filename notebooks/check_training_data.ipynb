{
 "cells": [
  {
   "cell_type": "code",
   "execution_count": 1,
   "metadata": {},
   "outputs": [
    {
     "name": "stderr",
     "output_type": "stream",
     "text": [
      "/misc/lmbraid19/thomasa/virtual-env/tf_venv/lib/python3.5/site-packages/h5py/__init__.py:36: FutureWarning: Conversion of the second argument of issubdtype from `float` to `np.floating` is deprecated. In future, it will be treated as `np.float64 == np.dtype(float).type`.\n",
      "  from ._conv import register_converters as _register_converters\n"
     ]
    },
    {
     "name": "stdout",
     "output_type": "stream",
     "text": [
      "Using /misc/lmbraid19/thomasa/deep-networks/lmbspecialops/build/lib/lmbspecialops.so\n"
     ]
    }
   ],
   "source": [
    "from reinforced_visual_slam.srv import *\n",
    "import rospy\n",
    "\n",
    "import matplotlib.pyplot as plt\n",
    "from matplotlib import colors\n",
    "\n",
    "import os\n",
    "import sys\n",
    "sys.path.insert(0,'/misc/software/opencv/opencv-3.2.0_cuda8_with_contrib-x86_64-gcc5.4.0/lib/python3.5/dist-packages')\n",
    "\n",
    "import cv2\n",
    "import numpy as np\n",
    "from skimage.transform import resize\n",
    "\n",
    "import tensorflow as tf\n",
    "\n",
    "sys.path.insert(0,'/misc/lmbraid19/thomasa/catkin_ws/src/reinforced_visual_slam/networks/depth_fusion')\n",
    "from net.my_models import *\n",
    "\n",
    "import random\n",
    "\n",
    "import lmbspecialops as sops"
   ]
  },
  {
   "cell_type": "markdown",
   "metadata": {},
   "source": [
    "# check sparse invariant gradients #"
   ]
  },
  {
   "cell_type": "code",
   "execution_count": 2,
   "metadata": {},
   "outputs": [],
   "source": [
    "# define the sig params to be checked!\n",
    "sig_params_list = [{'deltas':[1,], 'weights':[1,], 'epsilon': 1e-9},\n",
    "                   {'deltas':[2,], 'weights':[1,], 'epsilon': 1e-9},\n",
    "                   {'deltas':[4,], 'weights':[1,], 'epsilon': 1e-9},\n",
    "                   ]\n",
    "\n",
    "# helper function to invert gt depth\n",
    "def invert_finite_depth(x):\n",
    "    # mask is true if input is finite and greater than 0. If condition is false, make it invalid (nan)\n",
    "    mask = tf.logical_and(tf.is_finite(x), tf.greater(x, 0.))\n",
    "    ix_clean = tf.where(mask, tf.reciprocal(x), tf.fill(x.shape, np.nan))\n",
    "    return ix_clean\n"
   ]
  },
  {
   "cell_type": "code",
   "execution_count": null,
   "metadata": {},
   "outputs": [
    {
     "name": "stdout",
     "output_type": "stream",
     "text": [
      "sigs_nhwc_x.shape (3, 240, 320, 1)\n",
      "sigs_nhwc_y.shape (3, 240, 320, 1)\n",
      "Press Enter to continue...\n",
      "sigs_nhwc_x.shape (3, 240, 320, 1)\n",
      "sigs_nhwc_y.shape (3, 240, 320, 1)\n",
      "Press Enter to continue...\n",
      "sigs_nhwc_x.shape (3, 240, 320, 1)\n",
      "sigs_nhwc_y.shape (3, 240, 320, 1)\n",
      "Press Enter to continue...\n",
      "sigs_nhwc_x.shape (3, 240, 320, 1)\n",
      "sigs_nhwc_y.shape (3, 240, 320, 1)\n",
      "Press Enter to continue...\n",
      "sigs_nhwc_x.shape (3, 240, 320, 1)\n",
      "sigs_nhwc_y.shape (3, 240, 320, 1)\n",
      "Press Enter to continue...\n",
      "sigs_nhwc_x.shape (3, 240, 320, 1)\n",
      "sigs_nhwc_y.shape (3, 240, 320, 1)\n"
     ]
    }
   ],
   "source": [
    "# load data file\n",
    "test_file = '/misc/lmbraid19/thomasa/datasets/LSDDepthTraining/test/rgbd_lsdDepth_test.txt'\n",
    "base_path = os.path.dirname(test_file)\n",
    "sess = tf.Session()\n",
    "with open(test_file) as file:\n",
    "    # read lines of file and loop over it randomly\n",
    "    lines = file.readlines()\n",
    "    random.shuffle(lines)\n",
    "    cnt = 0\n",
    "    for line in lines:\n",
    "        # load only the depth GT image, convert to tensor and convert scale to meters\n",
    "        depth_gt_file = line.strip().split(',')[0]\n",
    "        depth_gt = tf.read_file(os.path.join(base_path, depth_gt_file))\n",
    "        depth_tensor = tf.image.decode_png(depth_gt, dtype=tf.uint16)\n",
    "        depth_tensor = tf.reshape(depth_tensor, [1, 480, 640, 1])\n",
    "        depth_tensor = tf.cast(depth_tensor, tf.float32)\n",
    "        depth_tensor =  tf.scalar_mul(0.0002, depth_tensor)\n",
    "        # make inverse depth similar to training input and downsample it\n",
    "        idepth_tensor = invert_finite_depth(depth_tensor)\n",
    "        idepth_tensor = tf.image.resize_images(idepth_tensor, [240, 320], align_corners=True, \n",
    "                                               method=tf.image.ResizeMethod.NEAREST_NEIGHBOR)\n",
    "        idepth_tensor = tf.transpose(idepth_tensor,[0,3,1,2])\n",
    "        # find different scale invariant gradients and plot it alongside the depth gt\n",
    "        sig_list = []\n",
    "        for sig_param in sig_params_list:\n",
    "            gt_sig = sops.scale_invariant_gradient(idepth_tensor,**sig_param)\n",
    "            sig_list.append(sops.replace_nonfinite(tf.transpose(gt_sig, [0,2,3,1])))        \n",
    "        sigs_nhwc_x = tf.concat([sig_list[0][:,:,:,0:1], sig_list[1][:,:,:,0:1], \n",
    "                                 sig_list[2][:,:,:,0:1]], 0)\n",
    "        sigs_nhwc_y = tf.concat([sig_list[0][:,:,:,1:], sig_list[1][:,:,:,1:], \n",
    "                                 sig_list[2][:,:,:,1:]], 0)\n",
    "        sigs_nhwc_x = sops.replace_nonfinite(sigs_nhwc_x)\n",
    "        sigs_nhwc_y = sops.replace_nonfinite(sigs_nhwc_y)\n",
    "        print('sigs_nhwc_x.shape', sigs_nhwc_x.shape)\n",
    "        print('sigs_nhwc_y.shape', sigs_nhwc_y.shape)\n",
    "        tf.summary.image('sigs_x', sigs_nhwc_x, max_outputs=3)\n",
    "        tf.summary.image('sigs_y', sigs_nhwc_y, max_outputs=3)\n",
    "        merged = tf.summary.merge_all()\n",
    "        writer = tf.summary.FileWriter('/tmp/akhil/')\n",
    "        summary = sess.run(merged)\n",
    "        writer.add_summary(summary, cnt)\n",
    "        cnt += 1\n",
    "        input(\"Press Enter to continue...\")"
   ]
  },
  {
   "cell_type": "code",
   "execution_count": null,
   "metadata": {},
   "outputs": [],
   "source": []
  }
 ],
 "metadata": {
  "kernelspec": {
   "display_name": "Python 3",
   "language": "python",
   "name": "python3"
  },
  "language_info": {
   "codemirror_mode": {
    "name": "ipython",
    "version": 3
   },
   "file_extension": ".py",
   "mimetype": "text/x-python",
   "name": "python",
   "nbconvert_exporter": "python",
   "pygments_lexer": "ipython3",
   "version": "3.5.2"
  }
 },
 "nbformat": 4,
 "nbformat_minor": 2
}
