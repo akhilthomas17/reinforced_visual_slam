{
 "cells": [
  {
   "cell_type": "code",
   "execution_count": null,
   "metadata": {},
   "outputs": [],
   "source": [
    "import tensorflow as tf\n",
    "from deepTAM.helpers2 import *\n",
    "from deepTAM.common_netcode.myHelpers import *\n",
    "gpu_options = tf.GPUOptions()\n",
    "gpu_options.per_process_gpu_memory_fraction=0.8\n",
    "sess = tf.InteractiveSession(config=tf.ConfigProto(allow_soft_placement=True, gpu_options=gpu_options))\n",
    "\n",
    "# Option 1\n",
    "saver = tf.train.import_meta_graph('/misc/lmbraid19/thomasa/deep-networks/deepTAM/nets_multiframes/depth_singleimage/training_v_sun3d/1_d_big/recovery_checkpoints/snapshot-391065.meta')\n",
    "saver.restore(sess, '/misc/lmbraid19/thomasa/deep-networks/deepTAM/nets_multiframes/depth_singleimage/training_v_sun3d/1_d_big/recovery_checkpoints/snapshot-391065')\n",
    "\n",
    "# Option 2 (Huizhong's way)\n",
    "from deepTAM.evaluation.helpers import *\n",
    "from tfutils import optimistic_restore\n",
    "import cv2\n",
    "import numpy as np\n",
    "\n",
    "mapping_mod = load_myNetworks_module_noname('/misc/lmbraid19/thomasa/deep-networks/deepTAM/nets_multiframes/depth_singleimage/net/myNetworks.py')\n",
    "single_image_depth_net = mapping_mod.SingleImageDepthNetwork(batch_size=1, width=320, height=240)\n",
    "single_image_depth_outputs = single_image_depth_net.build_net(**single_image_depth_net.placeholders)\n",
    "sess.run(tf.global_variables_initializer())\n",
    "checkpoint = '/misc/lmbraid19/thomasa/deep-networks/deepTAM/nets_multiframes/depth_singleimage/training_v_sun3d/1_d_big/recovery_checkpoints/snapshot-391065'\n",
    "optimistic_restore(sess,checkpoint,verbose=True)\n",
    "\t\n",
    "rgb = cv2.imread('/misc/lmbraid19/thomasa/datasets/rgbd/rgbd_dataset_freiburg1_teddy/rgb/1305032227.675702.png', -1)\n",
    "rgb_new = cv2.normalize(rgb, None, alpha=-0.5, beta=0.5, norm_type=cv2.NORM_MINMAX, dtype=cv2.CV_32F)\n",
    "rgb_new = cv2.resize(rgb_new,(320, 240))\n",
    "rgb_new = np.transpose(rgb_new, (2,0,1))\n",
    "\n",
    "feed_dict = {\n",
    "                single_image_depth_net.placeholders['image']: rgb_new[np.newaxis, :, :, :],\n",
    "            }\n",
    "\n",
    "single_image_depth_out = sess.run(single_image_depth_outputs, feed_dict=feed_dict)\n",
    "depth_pr = single_image_depth_out['predict_depth']\n",
    "\n",
    "cv2.imshow(\"predicted depth\", depth_pr[0,0])\n",
    "cv2.imshow(\"input image\", rgb)\n",
    "cv2.waitKey(0)"
   ]
  }
 ],
 "metadata": {
  "kernelspec": {
   "display_name": "Python 3",
   "language": "python",
   "name": "python3"
  },
  "language_info": {
   "codemirror_mode": {
    "name": "ipython",
    "version": 3
   },
   "file_extension": ".py",
   "mimetype": "text/x-python",
   "name": "python",
   "nbconvert_exporter": "python",
   "pygments_lexer": "ipython3",
   "version": "3.5.2"
  }
 },
 "nbformat": 4,
 "nbformat_minor": 2
}
