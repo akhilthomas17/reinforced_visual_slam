{
 "cells": [
  {
   "cell_type": "code",
   "execution_count": null,
   "metadata": {},
   "outputs": [],
   "source": [
    "from reinforced_visual_slam.srv import *\n",
    "import rospy\n",
    "\n",
    "import matplotlib.pyplot as plt\n",
    "from matplotlib import colors\n",
    "\n",
    "\n",
    "import os\n",
    "import sys\n",
    "sys.path.insert(0,'/misc/software/opencv/opencv-3.2.0_cuda8_with_contrib-x86_64-gcc5.4.0/lib/python3.5/dist-packages')\n",
    "\n",
    "import cv2\n",
    "import numpy as np\n",
    "from skimage.transform import resize\n",
    "\n",
    "import tensorflow as tf\n",
    "\n",
    "sys.path.insert(0,'/misc/lmbraid19/thomasa/catkin_ws/src/reinforced_visual_slam/networks/depth_fusion')\n",
    "from net.my_models import *"
   ]
  },
  {
   "cell_type": "code",
   "execution_count": null,
   "metadata": {},
   "outputs": [],
   "source": [
    "model_name = \"NetV02_L1cleanSigL1_down_aug_\"\n",
    "model_function = model_fn_Netv2_LossL1CleanSigL1_down\n",
    "model_base_dir = \"/misc/lmbraid19/thomasa/catkin_ws/src/reinforced_visual_slam/networks/depth_fusion/training\"\n",
    "model_dir = os.path.join(model_base_dir, model_name)\n",
    "print(model_dir)\n",
    "print(model_function)"
   ]
  },
  {
   "cell_type": "code",
   "execution_count": null,
   "metadata": {},
   "outputs": [],
   "source": [
    "lsd_depth_fuser = tf.estimator.Estimator(model_fn=model_function, model_dir=model_dir, \n",
    "                                         params={'data_format':\"channels_first\", 'multi_gpu':False})"
   ]
  },
  {
   "cell_type": "code",
   "execution_count": null,
   "metadata": {},
   "outputs": [],
   "source": [
    "test_file = '/misc/lmbraid19/thomasa/datasets/LSDDepthTraining/test/rgbd_lsdDepth_test.txt'\n",
    "base_path = os.path.dirname(test_file)\n"
   ]
  },
  {
   "cell_type": "code",
   "execution_count": null,
   "metadata": {},
   "outputs": [],
   "source": [
    "def predict_input_fn(rgb, sparse_idepth, sparse_idepth_var):\n",
    "    feature_names = [\n",
    "      'rgb',\n",
    "      'sparseInverseDepth',\n",
    "      'sparseInverseDepthVariance'\n",
    "    ]\n",
    "    input_tensors = [rgb, sparse_idepth[np.newaxis,:,:], sparse_idepth_var[np.newaxis,:,:]]\n",
    "    inputs = dict(zip(feature_names, input_tensors))\n",
    "    print(inputs['rgb'].shape)\n",
    "    dataset = tf.data.Dataset.from_tensors(inputs)\n",
    "    dataset = dataset.batch(1)\n",
    "    iterator = dataset.make_one_shot_iterator()\n",
    "    features = iterator.get_next()\n",
    "    print(features['rgb'].shape, features['sparseInverseDepth'].shape, \n",
    "          features['sparseInverseDepthVariance'].shape)\n",
    "    return features"
   ]
  },
  {
   "cell_type": "code",
   "execution_count": null,
   "metadata": {},
   "outputs": [],
   "source": [
    "with open(test_file) as file:\n",
    "    for line in file.readlines():\n",
    "        # prepare test input\n",
    "        depth_gt_file, rgb_file, sparse_idepth_bin, sparse_idepth_var_bin = line.strip().split(',')[0:]\n",
    "\n",
    "        print(\"Sparse idepth ---\")\n",
    "        sparse_idepth = np.fromfile(os.path.join(base_path, sparse_idepth_bin), dtype=np.float16)\n",
    "        print(\"min half-float sparse_idepth: \", np.nanmin(sparse_idepth))\n",
    "        print(\"max half-float sparse_idepth: \", np.nanmax(sparse_idepth))\n",
    "        sparse_idepth = sparse_idepth.astype(np.float32)\n",
    "        sparse_idepth = sparse_idepth.reshape((480, 640))\n",
    "        #sparse_idepth = resize(sparse_idepth, output_shape=(240,320), order=0)\n",
    "        sparse_idepth = cv2.resize(sparse_idepth, (320, 240), cv2.INTER_NEAREST)\n",
    "        #sparse_idepth = sparse_idepth.resize()\n",
    "        print(\"max: \", np.nanmax(sparse_idepth))\n",
    "        print(\"shape: \",sparse_idepth.shape)\n",
    "        print(\"dtype: \", sparse_idepth.dtype)\n",
    "\n",
    "        print(\"Sparse idepth var ---\")\n",
    "        sparse_idepth_var = np.fromfile(os.path.join(base_path, sparse_idepth_var_bin), dtype=np.float16)\n",
    "        print(\"min half-float sparse_idepth: \", np.nanmin(sparse_idepth_var))\n",
    "        print(\"max half-float sparse_idepth: \", np.nanmax(sparse_idepth_var))\n",
    "        sparse_idepth_var = sparse_idepth_var.astype(np.float32)\n",
    "        sparse_idepth_var = sparse_idepth_var.reshape((480, 640))\n",
    "        #sparse_idepth = resize(sparse_idepth, output_shape=(240,320), order=0)\n",
    "        sparse_idepth_var = cv2.resize(sparse_idepth_var, (320, 240), cv2.INTER_NEAREST)\n",
    "        #sparse_idepth = sparse_idepth.resize()\n",
    "        print(\"max: \", np.nanmax(sparse_idepth_var))\n",
    "        print(\"shape: \",sparse_idepth_var.shape)\n",
    "        print(\"dtype: \", sparse_idepth_var.dtype)\n",
    "\n",
    "        print(\"rgb---\")\n",
    "        rgb = cv2.imread(os.path.join(base_path, rgb_file), -1).astype(np.float32)/255\n",
    "        rgb = cv2.resize(rgb, (320, 240))\n",
    "        rgb = np.transpose(rgb, (2,0,1))\n",
    "        print(\"shape: \", rgb.shape)\n",
    "        print(\"max: \", np.nanmax(rgb))\n",
    "        print(\"dtype: \", rgb.dtype)\n",
    "        \n",
    "        depth_gt = cv2.imread(os.path.join(base_path, depth_gt_file), -1).astype(np.float32)/5000\n",
    "        gt_max = np.nanmax(depth_gt)\n",
    "\n",
    "        depthmap_predicted = lsd_depth_fuser.predict(lambda : predict_input_fn(rgb, sparse_idepth, sparse_idepth_var))\n",
    "        depthmap_scaled = list(depthmap_predicted)[0]['depth'][0]\n",
    "        \n",
    "        #invrting depthmap\n",
    "        depthmap_scaled = np.where(depthmap_scaled>0.2, 1./depthmap_scaled, np.zeros_like(depthmap_scaled))\n",
    "        \n",
    "        fig, axs = plt.subplots(1, 2)\n",
    "        norm = colors.Normalize(vmin=0, vmax=gt_max)\n",
    "        cmap = 'hot'\n",
    "        images = []\n",
    "        images.append(axs[0].imshow(depthmap_scaled, cmap=cmap))\n",
    "        images.append(axs[1].imshow(depth_gt, cmap=cmap))\n",
    "        for im in images:\n",
    "            im.set_norm(norm)\n",
    "        fig.colorbar(images[0], ax=axs, orientation='horizontal', fraction=.1)\n",
    "        #plt.figure(\"sparse_depth\")\n",
    "        #plt.imshow(sparse_depth, cmap='hot', norm=norm)\n",
    "        #plt.clim(0,gt_max)\n",
    "        #plt.colorbar()\n",
    "        #plt.figure(\"gt_depth\")\n",
    "        #plt.imshow(depth_gt, cmap='hot', norm=norm)\n",
    "        #plt.clim(0,gt_max)\n",
    "        #plt.colorbar()\n",
    "        #plt.figure(\"sparse_depth_variance\")\n",
    "        #plt.imshow(sparse_idepthVar, cmap='hot')\n",
    "        #plt.figure(\"rgb\")\n",
    "        #plt.imshow(rgb)\n",
    "        plt.show()\n",
    "        \n",
    "        #plt.imshow(depthmap_scaled, cmap='hot')\n",
    "        #plt.colorbar()\n",
    "        #plt.show()\n",
    "        inp = input(\"Press Enter to continue...\")\n",
    "        print(inp)"
   ]
  },
  {
   "cell_type": "code",
   "execution_count": null,
   "metadata": {},
   "outputs": [],
   "source": [
    "# prepare test input\n",
    "rgb_file, sparse_idepth_bin, sparse_idepth_var_bin = file.readline().strip().split(',')[1:]\n",
    "print(rgb_file)\n",
    "print(sparse_idepth_bin)\n",
    "print(sparse_idepth_var_bin)\n",
    "base_path = os.path.dirname(test_file)\n",
    "print(base_path)"
   ]
  },
  {
   "cell_type": "code",
   "execution_count": null,
   "metadata": {},
   "outputs": [],
   "source": [
    "print(\"Sparse idepth ---\")\n",
    "sparse_idepth = np.fromfile(os.path.join(base_path, sparse_idepth_bin), dtype=np.float16)\n",
    "print(\"min half-float sparse_idepth: \", np.nanmin(sparse_idepth))\n",
    "print(\"max half-float sparse_idepth: \", np.nanmax(sparse_idepth))\n",
    "sparse_idepth = sparse_idepth.astype(np.float32)\n",
    "sparse_idepth = sparse_idepth.reshape((480, 640))\n",
    "#sparse_idepth = resize(sparse_idepth, output_shape=(240,320), order=0)\n",
    "sparse_idepth = cv2.resize(sparse_idepth, (320, 240), cv2.INTER_NEAREST)\n",
    "#sparse_idepth = sparse_idepth.resize()\n",
    "print(\"max: \", np.nanmax(sparse_idepth))\n",
    "print(\"shape: \",sparse_idepth.shape)\n",
    "print(\"dtype: \", sparse_idepth.dtype)"
   ]
  },
  {
   "cell_type": "code",
   "execution_count": null,
   "metadata": {},
   "outputs": [],
   "source": [
    "print(\"Sparse idepth var ---\")\n",
    "sparse_idepth_var = np.fromfile(os.path.join(base_path, sparse_idepth_var_bin), dtype=np.float16)\n",
    "print(\"min half-float sparse_idepth: \", np.nanmin(sparse_idepth_var))\n",
    "print(\"max half-float sparse_idepth: \", np.nanmax(sparse_idepth_var))\n",
    "sparse_idepth_var = sparse_idepth_var.astype(np.float32)\n",
    "sparse_idepth_var = sparse_idepth_var.reshape((480, 640))\n",
    "#sparse_idepth = resize(sparse_idepth, output_shape=(240,320), order=0)\n",
    "sparse_idepth_var = cv2.resize(sparse_idepth_var, (320, 240), cv2.INTER_NEAREST)\n",
    "#sparse_idepth = sparse_idepth.resize()\n",
    "print(\"max: \", np.nanmax(sparse_idepth_var))\n",
    "print(\"shape: \",sparse_idepth_var.shape)\n",
    "print(\"dtype: \", sparse_idepth_var.dtype)"
   ]
  },
  {
   "cell_type": "code",
   "execution_count": null,
   "metadata": {},
   "outputs": [],
   "source": [
    "print(\"rgb---\")\n",
    "rgb = cv2.imread(os.path.join(base_path, rgb_file), -1).astype(np.float32)/255\n",
    "rgb = cv2.resize(rgb, (320, 240))\n",
    "rgb = np.transpose(rgb, (2,0,1))\n",
    "print(\"shape: \", rgb.shape)\n",
    "print(\"max: \", np.nanmax(rgb))\n",
    "print(\"dtype: \", rgb.dtype)"
   ]
  },
  {
   "cell_type": "code",
   "execution_count": null,
   "metadata": {},
   "outputs": [],
   "source": [
    "depthmap_predicted = lsd_depth_fuser.predict(lambda : predict_input_fn(rgb, sparse_idepth, sparse_idepth_var))"
   ]
  },
  {
   "cell_type": "code",
   "execution_count": null,
   "metadata": {},
   "outputs": [],
   "source": [
    "#print(list(depthmap_predicted)[0]['depth'][0].shape)"
   ]
  },
  {
   "cell_type": "code",
   "execution_count": null,
   "metadata": {},
   "outputs": [],
   "source": [
    "depthmap_scaled = list(depthmap_predicted)[0]['depth'][0]"
   ]
  },
  {
   "cell_type": "code",
   "execution_count": null,
   "metadata": {},
   "outputs": [],
   "source": []
  },
  {
   "cell_type": "code",
   "execution_count": null,
   "metadata": {},
   "outputs": [],
   "source": [
    "plt.figure(\"depth_prediction\")"
   ]
  },
  {
   "cell_type": "code",
   "execution_count": null,
   "metadata": {},
   "outputs": [],
   "source": [
    "plt.imshow(depthmap_scaled, cmap='hot')\n",
    "plt.colorbar()\n",
    "plt.show()"
   ]
  },
  {
   "cell_type": "code",
   "execution_count": null,
   "metadata": {},
   "outputs": [],
   "source": []
  }
 ],
 "metadata": {
  "kernelspec": {
   "display_name": "Python 3",
   "language": "python",
   "name": "python3"
  },
  "language_info": {
   "codemirror_mode": {
    "name": "ipython",
    "version": 3
   },
   "file_extension": ".py",
   "mimetype": "text/x-python",
   "name": "python",
   "nbconvert_exporter": "python",
   "pygments_lexer": "ipython3",
   "version": "3.5.2"
  }
 },
 "nbformat": 4,
 "nbformat_minor": 2
}
