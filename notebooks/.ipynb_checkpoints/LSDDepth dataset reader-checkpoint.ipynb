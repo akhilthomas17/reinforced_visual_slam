{
 "cells": [
  {
   "cell_type": "markdown",
   "metadata": {},
   "source": [
    "# Checking validity of dataset"
   ]
  },
  {
   "cell_type": "code",
   "execution_count": null,
   "metadata": {},
   "outputs": [],
   "source": [
    "def check_validity(dataset_folder, basename, matplotlib=True, debug=False):\n",
    "    import cv2\n",
    "    import numpy as np\n",
    "    import matplotlib.pyplot as plt\n",
    "    import matplotlib\n",
    "    #Inside notebook uncomment the following\n",
    "    matplotlib.rcsetup.interactive_bk\n",
    "    plt.switch_backend('nbAgg')\n",
    "    \n",
    "    # Setting paths of the keyframe batch\n",
    "    depth_gt_png = dataset_folder + basename + \"depthGT.png\"\n",
    "    rgb_png = dataset_folder + basename + \"rgb.png\"\n",
    "    sparse_depth_bin = dataset_folder + basename + \"sparse_depth.bin\"\n",
    "    sparse_variance_bin = dataset_folder + basename + \"sparse_depthVar.bin\"\n",
    "    \n",
    "    # opening depth_gt and converting it to float\n",
    "    print(\"GT depth---\")\n",
    "    depth_gt = cv2.imread(depth_gt_png, -1).astype(np.float32)/5000\n",
    "    rgb = cv2.imread(rgb_png, -1)\n",
    "    print(\"shape: \", depth_gt.shape)\n",
    "    print(\"max: \", np.nanmax(depth_gt))\n",
    "    print(\"dtype: \", depth_gt.dtype)\n",
    "    \n",
    "    # loading sparse idepth from bin (as half-float) and converting it to float32\n",
    "    print(\"Sparse idepth ---\")\n",
    "    sparse_idepth = np.fromfile(sparse_depth_bin, dtype=np.float16)\n",
    "    if(debug):\n",
    "        print(\"min half-float sparse_idepth: \", np.nanmin(sparse_idepth))\n",
    "        print(\"max half-float sparse_idepth: \", np.nanmax(sparse_idepth))\n",
    "    sparse_idepth = sparse_idepth.astype(np.float32)\n",
    "    sparse_idepth = sparse_idepth.reshape((480, 640))\n",
    "    print(\"max: \", np.nanmax(sparse_idepth))\n",
    "    print(\"shape: \",sparse_idepth.shape)\n",
    "    print(\"dtype: \", sparse_idepth.dtype)\n",
    "    \n",
    "    # converting sparse idepth to depth\n",
    "    print(\"Sparse depth ---\")\n",
    "    sparse_depth = 1./sparse_idepth\n",
    "    print(\"max: \", np.nanmax(sparse_depth))\n",
    "    print(\"shape: \", sparse_depth.shape)\n",
    "    print(\"dtype: \", sparse_depth.dtype)\n",
    "    \n",
    "    # loading sparse idepthVar from bin (as half-float) and converting it to float32\n",
    "    print(\"Sparse idepthVar ---\")\n",
    "    sparse_idepthVar = np.fromfile(sparse_variance_bin, dtype=np.float16)\n",
    "    if(debug):\n",
    "        print(\"min half-float sparse_idepthVar: \", np.nanmin(sparse_idepthVar))\n",
    "        print(\"max half-float sparse_idepthVar: \", np.nanmax(sparse_idepthVar))\n",
    "    sparse_idepthVar = sparse_idepthVar.astype(np.float32)\n",
    "    sparse_idepthVar = sparse_idepthVar.reshape((480, 640))\n",
    "    print(\"max: \", np.nanmax(sparse_idepthVar))\n",
    "    print(\"shape: \", sparse_idepthVar.shape)\n",
    "    print(\"dtype: \", sparse_idepthVar.dtype)\n",
    "    \n",
    "    # plotting images\n",
    "    if matplotlib:\n",
    "        # plot using matplotlib\n",
    "        plt.figure(\"sparse_depth\")\n",
    "        plt.imshow(sparse_depth, cmap='hot')\n",
    "        plt.clim(0,4)\n",
    "        plt.colorbar()\n",
    "        plt.figure(\"gt_depth\")\n",
    "        plt.imshow(depth_gt, cmap='hot')\n",
    "        plt.clim(0,4)\n",
    "        plt.colorbar()\n",
    "        plt.figure(\"sparse_depth_variance\")\n",
    "        plt.imshow(sparse_idepthVar, cmap='hot')\n",
    "        plt.figure(\"rgb\")\n",
    "        plt.imshow(rgb)\n",
    "        plt.show()\n",
    "    else:\n",
    "        # plot using opencv\n",
    "        sparse_plot = cv2.convertScaleAbs(sparse_depth*255./4.5)\n",
    "        gt_plot = cv2.convertScaleAbs(depth_gt*255./4.5)\n",
    "        cv2.imshow(\"sparse_depth\", sparse_plot)\n",
    "        cv2.imshow(\"gt_depth\", gt_plot)\n",
    "        cv2.imshow(\"rgb\", rgb_gt)\n",
    "        cv2.waitKey(0)\n",
    "\n",
    "    \n",
    "    if(debug):\n",
    "        print(\"min depth_gt: \", np.nanmin(depth_gt))\n",
    "        print(\"min sparse_idepth: \", np.nanmin(sparse_idepth))\n",
    "        print(\"min sparse_depth: \", np.nanmin(sparse_depth))\n",
    "        print(\"min sparse_idepthVar: \", np.nanmin(sparse_idepthVar))"
   ]
  },
  {
   "cell_type": "code",
   "execution_count": null,
   "metadata": {},
   "outputs": [],
   "source": [
    "dataset_folder = \"/misc/lmbraid19/thomasa/datasets/LSDDepthTraining/rgbd_dataset_freiburg1_teddy/\"\n",
    "basename = \"0_1305032222.008934_171_\"\n",
    "check_validity(dataset_folder, basename)"
   ]
  },
  {
   "cell_type": "code",
   "execution_count": null,
   "metadata": {},
   "outputs": [],
   "source": [
    "import cv2\n",
    "import numpy as np\n",
    "import matplotlib.pyplot as plt\n",
    "import matplotlib\n",
    "matplotlib.rcsetup.interactive_bk"
   ]
  },
  {
   "cell_type": "code",
   "execution_count": null,
   "metadata": {},
   "outputs": [],
   "source": [
    "plt.switch_backend('nbAgg')"
   ]
  },
  {
   "cell_type": "code",
   "execution_count": null,
   "metadata": {},
   "outputs": [],
   "source": [
    "dataset_folder = \"/misc/lmbraid19/thomasa/datasets/LSDDepthTraining/rgbd_dataset_freiburg1_teddy/\"\n",
    "basename = \"0_1305032227.075600_186_\"\n",
    "depth_gt_png = dataset_folder + basename + \"depthGT.png\"\n",
    "rgb_png = dataset_folder + basename + \"rgb.png\"\n",
    "sparse_depth_bin = dataset_folder + basename + \"sparse_depth.bin\"\n",
    "sparse_variance_bin = dataset_folder + basename + \"sparse_depthVar.bin\""
   ]
  },
  {
   "cell_type": "code",
   "execution_count": null,
   "metadata": {},
   "outputs": [],
   "source": [
    "depth_gt = cv2.imread(depth_gt_png, -1).astype(np.float32)/5000\n",
    "#depth_gt = cv2.imread(depth_gt_png, -1)\n",
    "rgb_gt = cv2.imread(rgb_png, -1)\n",
    "idepth_gt = 1./depth_gt\n"
   ]
  },
  {
   "cell_type": "code",
   "execution_count": null,
   "metadata": {},
   "outputs": [],
   "source": [
    "print(depth_gt.shape)\n",
    "print(np.nanmax(depth_gt))\n",
    "print(np.nanmin(depth_gt))\n",
    "print(depth_gt.dtype)"
   ]
  },
  {
   "cell_type": "code",
   "execution_count": null,
   "metadata": {},
   "outputs": [],
   "source": [
    "print(idepth_gt.shape)\n",
    "print(np.nanmax(idepth_gt))\n",
    "print(np.nanmin(idepth_gt))\n",
    "print(idepth_gt.dtype)"
   ]
  },
  {
   "cell_type": "code",
   "execution_count": null,
   "metadata": {},
   "outputs": [],
   "source": [
    "sparse_idepth = np.fromfile(sparse_depth_bin, dtype=np.float16)\n",
    "print(np.nanmax(sparse_idepth))\n",
    "print(np.nanmin(sparse_idepth))"
   ]
  },
  {
   "cell_type": "code",
   "execution_count": null,
   "metadata": {},
   "outputs": [],
   "source": [
    "sparse_idepth = sparse_idepth.astype(np.float32)\n",
    "sparse_idepth = sparse_idepth.reshape((480, 640))\n",
    "print(np.nanmax(sparse_idepth))\n",
    "print(np.nanmin(sparse_idepth))\n",
    "print(sparse_idepth.shape)\n",
    "print(sparse_idepth.dtype)"
   ]
  },
  {
   "cell_type": "code",
   "execution_count": null,
   "metadata": {},
   "outputs": [],
   "source": [
    "sparse_depth = 1./sparse_idepth\n",
    "print(np.nanmax(sparse_depth))\n",
    "print(np.nanmin(sparse_depth))\n",
    "print(sparse_depth.shape)\n",
    "print(sparse_depth.dtype)"
   ]
  },
  {
   "cell_type": "code",
   "execution_count": null,
   "metadata": {},
   "outputs": [],
   "source": [
    "sparse_idepthVar = np.fromfile(sparse_variance_bin, dtype=np.float16)\n",
    "print(np.nanmax(sparse_idepthVar))\n",
    "print(np.nanmin(sparse_idepthVar))\n",
    "sparse_idepthVar = sparse_idepthVar.astype(np.float32)\n",
    "sparse_idepthVar = sparse_idepthVar.reshape((480, 640))\n",
    "print(np.nanmax(sparse_idepthVar))\n",
    "print(np.nanmin(sparse_idepthVar))\n",
    "print(sparse_idepthVar.shape)\n",
    "print(sparse_idepthVar.dtype)"
   ]
  },
  {
   "cell_type": "code",
   "execution_count": null,
   "metadata": {},
   "outputs": [],
   "source": [
    "sparse_plot = cv2.convertScaleAbs(sparse_depth*255./4.5)\n",
    "gt_plot = cv2.convertScaleAbs(depth_gt*255./4.5)\n",
    "# plot using matplotlib\n",
    "plt.figure()\n",
    "plt.imshow(sparse_depth, cmap='hot')\n",
    "plt.clim(0,4)\n",
    "plt.colorbar()\n",
    "plt.figure()\n",
    "plt.imshow(depth_gt, cmap='hot')\n",
    "plt.clim(0,4)\n",
    "plt.colorbar()\n",
    "plt.show()\n",
    "\"\"\"\n",
    "# plot using opencv\n",
    "cv2.imshow(\"sparse_depth\", sparse_plot)\n",
    "cv2.imshow(\"gt_depth\", gt_plot)\n",
    "cv2.imshow(\"rgb\", rgb_gt)\n",
    "cv2.waitKey(0)\n",
    "\"\"\""
   ]
  },
  {
   "cell_type": "code",
   "execution_count": null,
   "metadata": {},
   "outputs": [],
   "source": [
    "fig,ax = plt.subplots()\n",
    "cax = plt.imshow(sparse_idepthVar, cmap='hot')\n",
    "cbar = fig.colorbar(cax)\n",
    "plt.show()"
   ]
  },
  {
   "cell_type": "code",
   "execution_count": null,
   "metadata": {},
   "outputs": [],
   "source": [
    "original_depth = \"/misc/lmbraid19/thomasa/datasets/rgbd/rgbd_dataset_freiburg1_teddy/depth/1305032182.042220.png\"\n",
    "depth_org = cv2.imread(original_depth, -1)\n",
    "print(depth_org.max())\n",
    "print(depth_org.min())\n",
    "depth_org.dtype"
   ]
  }
 ],
 "metadata": {
  "kernelspec": {
   "display_name": "Python 3",
   "language": "python",
   "name": "python3"
  },
  "language_info": {
   "codemirror_mode": {
    "name": "ipython",
    "version": 3
   },
   "file_extension": ".py",
   "mimetype": "text/x-python",
   "name": "python",
   "nbconvert_exporter": "python",
   "pygments_lexer": "ipython3",
   "version": "3.5.2"
  }
 },
 "nbformat": 4,
 "nbformat_minor": 2
}
