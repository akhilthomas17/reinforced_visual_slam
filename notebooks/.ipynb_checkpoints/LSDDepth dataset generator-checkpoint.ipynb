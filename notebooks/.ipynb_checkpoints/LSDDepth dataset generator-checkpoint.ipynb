{
 "cells": [
  {
   "cell_type": "markdown",
   "metadata": {},
   "source": [
    "\n",
    "# Run training data generator"
   ]
  },
  {
   "cell_type": "code",
   "execution_count": null,
   "metadata": {},
   "outputs": [],
   "source": [
    "def dataset_len(dataset_loc):\n",
    "    with open(dataset_loc) as f:\n",
    "        for i, l in enumerate(f):\n",
    "            pass\n",
    "    return i + 1\n",
    "\n",
    "def gen_lsd_depth_training_data(dataset_loc, len_traj=200, keyframe_rate = 10, pause=2.5, test=True, debug=True):\n",
    "    import time\n",
    "    import subprocess\n",
    "    import numpy as np\n",
    "    \n",
    "    # static params (not to be changed)\n",
    "    bin_loc = \"rosrun lsd_slam_core depth_training_data_gen\"\n",
    "    hz = \"0\"\n",
    "    doSlam = \"true\"\n",
    "    \n",
    "    # params that may be changed for different datasets\n",
    "    calib_file = \"/misc/lmbraid19/thomasa/rosbuild_ws/packages/lsd_slam/lsd_slam_core/calib/OpenCV_example_calib.cfg\"\n",
    "    minUseGrad = \"3\"\n",
    "    \n",
    "    # Finding number of iterations needed: (Assuming \"keyframe_rate\" frames avg between each KFs)\n",
    "    len_sequence = dataset_len(dataset_loc)\n",
    "    number_itrns = keyframe_rate * int(len_sequence/len_traj)\n",
    "    \n",
    "    # Finding start index for each iteration in the trajectory\n",
    "    max_start = len_sequence - len_traj\n",
    "    start_indx_array = np.random.randint(max_start, size=number_itrns)\n",
    "    start_indx_array = start_indx_array.astype(np.unicode_)\n",
    "    \n",
    "    if test:\n",
    "        itrn_max = 1\n",
    "    else:\n",
    "        itrn_max = number_itrns\n",
    "    \n",
    "    if debug:\n",
    "        print(\"len_sequence: \", len_sequence)\n",
    "        print(\"number_itrns: \", number_itrns)\n",
    "        print(\"max_start: \", max_start)\n",
    "        print(\"start_indx_array: \", start_indx_array)\n",
    "    \n",
    "    process_list= []\n",
    "    args_prefix = (bin_loc + \" _calib:=\" + calib_file +\" _files:=\" + dataset_loc + \n",
    "                   \" _hz:=\" + hz + \" _doSlam:=\" + doSlam + \" _len_traj:=\" + str(len_traj) + \" _minUseGrad:=\" \n",
    "                   + minUseGrad + \" _KFUsageWeight:=20 _KFDistWeight:=20\" + \" _start_indx:=\")\n",
    "    node_name_remap = \" /LSD_SLAM_TRAIN_DATA_GEN:=/LSDDepthtraining\"\n",
    "    itr_num = \" _itr_num:=\"\n",
    "\n",
    "    for ii in range(itrn_max):\n",
    "        start_indx = start_indx_array[ii]\n",
    "        command = args_prefix + start_indx + node_name_remap + str(ii) + itr_num + str(ii)\n",
    "        process_list.append( subprocess.Popen(command, shell=True) )\n",
    "        time.sleep(pause)"
   ]
  },
  {
   "cell_type": "code",
   "execution_count": null,
   "metadata": {},
   "outputs": [],
   "source": [
    "dataset_loc = \"/misc/lmbraid19/thomasa/datasets/rgbd/rgbd_dataset_freiburg1_teddy/rgb_depth_associated.txt\"\n"
   ]
  },
  {
   "cell_type": "code",
   "execution_count": null,
   "metadata": {},
   "outputs": [],
   "source": [
    "import subprocess\n",
    "import numpy as np"
   ]
  },
  {
   "cell_type": "code",
   "execution_count": null,
   "metadata": {},
   "outputs": [],
   "source": [
    "#bin_loc = \"/misc/lmbraid19/thomasa/rosbuild_ws/packages/lsd_slam/lsd_slam_core/bin/depth_training_data_gen\"\n",
    "bin_loc = \"rosrun lsd_slam_core depth_training_data_gen\"\n",
    "calib_file = \"/misc/lmbraid19/thomasa/rosbuild_ws/packages/lsd_slam/lsd_slam_core/calib/OpenCV_example_calib.cfg\"\n",
    "hz = \"0\""
   ]
  },
  {
   "cell_type": "code",
   "execution_count": null,
   "metadata": {},
   "outputs": [],
   "source": [
    "dataset_loc = \"/misc/lmbraid19/thomasa/datasets/rgbd/rgbd_dataset_freiburg1_teddy/rgb_depth_associated.txt\"\n",
    "doSlam = \"true\""
   ]
  },
  {
   "cell_type": "code",
   "execution_count": null,
   "metadata": {},
   "outputs": [],
   "source": [
    "len_traj = \"200\"\n",
    "number_itrns = 70"
   ]
  },
  {
   "cell_type": "code",
   "execution_count": null,
   "metadata": {},
   "outputs": [],
   "source": [
    "def dataset_len(dataset_loc):\n",
    "    with open(dataset_loc) as f:\n",
    "        for i, l in enumerate(f):\n",
    "            pass\n",
    "    return i + 1"
   ]
  },
  {
   "cell_type": "code",
   "execution_count": null,
   "metadata": {},
   "outputs": [],
   "source": [
    "max_start = dataset_len(dataset_loc) - int(len_traj)\n",
    "max_start"
   ]
  },
  {
   "cell_type": "code",
   "execution_count": null,
   "metadata": {},
   "outputs": [],
   "source": [
    "start_indx_array = np.random.randint(max_start, size=number_itrns)\n",
    "#start_indx_array_str = np.array(map(str, start_indx_array))\n",
    "#print(start_indx_array_str[0])\n",
    "start_indx_array = start_indx_array.astype(np.unicode_)\n",
    "start_indx_array"
   ]
  },
  {
   "cell_type": "code",
   "execution_count": null,
   "metadata": {},
   "outputs": [],
   "source": [
    "subprocess.Popen('roscore', shell=True)"
   ]
  },
  {
   "cell_type": "code",
   "execution_count": null,
   "metadata": {},
   "outputs": [],
   "source": [
    "import time\n",
    "process_list= []\n",
    "args_prefix = (bin_loc +\" \"+ \"_calib:=\" + calib_file +\" \" +\"_files:=\" + dataset_loc +\" \"+ \n",
    "               \"_hz:=\" + hz +\" \"+ \"_doSlam:=\" + doSlam +\" \"+ \"_len_traj:=\" + len_traj +\" \"+\n",
    "               \"_minUseGrad:=3 _KFUsageWeight:=20 _KFDistWeight:=20\" + \"_start_indx:=\")\n",
    "node_name_remap = \" /LSD_SLAM_TRAIN_DATA_GEN:=/LSDDepthtraining\"\n",
    "itr_num = \" _itr_num:=\"\n",
    "\n",
    "#for ii in range(len(start_indx_array)):\n",
    "for ii in range(1):\n",
    "    start_indx = start_indx_array[ii]\n",
    "    process_list.append( subprocess.Popen(args_prefix + start_indx + \n",
    "                                          node_name_remap + str(ii) + itr_num + str(ii), shell=True) )\n",
    "    #print(args_prefix + start_indx + node_name_remap + str(ii))\n",
    "    time.sleep(2.5)\n",
    "    \n",
    "    "
   ]
  },
  {
   "cell_type": "code",
   "execution_count": null,
   "metadata": {},
   "outputs": [],
   "source": [
    "#args_prefix = [bin_loc, \"_calib:=\" + calib_file, \"_files:=\" + dataset_loc,\n",
    " #              \"_hz:=\" + hz, \"_doSlam:=\" + doSlam, \"_len_traj:=\" + len_traj]\n",
    "args_prefix = (bin_loc +\" \"+ \"_calib:=\" + calib_file +\" \" +\"_files:=\" + dataset_loc +\" \"+ \n",
    "               \"_hz:=\" + hz +\" \"+ \"_doSlam:=\" + doSlam +\" \"+ \"_len_traj:=\" + len_traj +\" \"+ \"_start_indx:=\")\n",
    "node_name_remap = \" LSD_SLAM_TRAIN_DATA_GEN:=LSDDepthtraining\"\n",
    "itr_num = \" _itr_num:=\""
   ]
  },
  {
   "cell_type": "code",
   "execution_count": null,
   "metadata": {},
   "outputs": [],
   "source": [
    "start_processes = lambda start_indx, node_num : subprocess.Popen(args_prefix + start_indx + \n",
    "                                                                 node_name_remap + str(node_num), shell=True)"
   ]
  },
  {
   "cell_type": "code",
   "execution_count": null,
   "metadata": {},
   "outputs": [],
   "source": [
    "node_nums = np.arange(len(start_indx_array))\n",
    "node_nums"
   ]
  },
  {
   "cell_type": "code",
   "execution_count": null,
   "metadata": {},
   "outputs": [],
   "source": [
    "process_list = list(map(start_processes, start_indx_array[4:8], node_nums[4:8]))"
   ]
  },
  {
   "cell_type": "code",
   "execution_count": null,
   "metadata": {},
   "outputs": [],
   "source": [
    "process_list"
   ]
  },
  {
   "cell_type": "code",
   "execution_count": null,
   "metadata": {},
   "outputs": [],
   "source": [
    "start_processes(start_indx_array[10])"
   ]
  },
  {
   "cell_type": "code",
   "execution_count": null,
   "metadata": {},
   "outputs": [],
   "source": [
    "#for process in process_list:\n",
    "    #print(process.poll())"
   ]
  },
  {
   "cell_type": "code",
   "execution_count": null,
   "metadata": {},
   "outputs": [],
   "source": [
    "cnt = 0\n",
    "process_list = []\n",
    "def start_processes(start_indx_array):\n",
    "    \n",
    "    "
   ]
  },
  {
   "cell_type": "code",
   "execution_count": null,
   "metadata": {},
   "outputs": [],
   "source": [
    "def run_binary(start_indx):\n",
    "    bin_loc = \"/misc/lmbraid19/thomasa/rosbuild_ws/packages/lsd_slam/lsd_slam_core/bin/depth_training_data_gen\"\n",
    "    calib_file = \"/misc/lmbraid19/thomasa/rosbuild_ws/packages/lsd_slam/lsd_slam_core/calib/OpenCV_example_calib.cfg\"\n",
    "    hz = \"0\"\n",
    "    dataset_loc = \"/misc/lmbraid19/thomasa/datasets/rgbd/rgbd_dataset_freiburg1_teddy/rgb_depth_associated.txt\"\n",
    "    doSlam = \"true\"\n",
    "    len_traj = \"300\"\n",
    "    #args = (bin_loc, \"_calib:=\" + calib_file, \"_files:=\" + dataset_loc, \"_hz:=\" + hz, \"_doSlam:=\" + doSlam, \"_start_indx:=\"+start_indx, \"_len_traj:=\" + len_traj)\n",
    "    args = np.array([bin_loc, \"_calib:=\" + calib_file, \"_files:=\" + dataset_loc,\n",
    "                     \"_hz:=\" + hz, \"_doSlam:=\" + doSlam, \"_start_indx:=\"+start_indx, \"_len_traj:=\" + len_traj])\n",
    "    #args = np.array([bin_loc +\" \"+ \"_calib:=\" + calib_file +\" \" +\"_files:=\" + dataset_loc +\" \"+\n",
    "     #   \"_hz:=\" + hz +\" \"+ \"_doSlam:=\" + doSlam +\" \"+ \"_start_indx:=\"+start_indx +\" \"+ \"_len_traj:=\" + len_traj])\n",
    "    args = np.vstack((args, args))\n",
    "    result = pool.map( subprocess_call, args )\n",
    "    #subprocess.call(args, shell=True)\n",
    "    popen = subprocess.Popen(args, stdin=subprocess.PIPE, stdout=subprocess.PIPE, stderr=subprocess.PIPE)\n",
    "    #output, err = popen.communicate(b\"input data that is passed to subprocess' stdin\")\n",
    "    #rc = popen.returncode\n"
   ]
  },
  {
   "cell_type": "code",
   "execution_count": null,
   "metadata": {},
   "outputs": [],
   "source": [
    "run_binary(\"800\")\n"
   ]
  },
  {
   "cell_type": "code",
   "execution_count": null,
   "metadata": {},
   "outputs": [],
   "source": [
    "popen = subprocess.Popen(args, stdin=subprocess.PIPE, stdout=subprocess.PIPE, stderr=subprocess.PIPE)\n",
    "output, err = popen.communicate(b\"input data that is passed to subprocess' stdin\")\n",
    "rc = popen.returncode\n",
    "print(rc)\n",
    "print(output)\n",
    "print(err)"
   ]
  },
  {
   "cell_type": "code",
   "execution_count": null,
   "metadata": {},
   "outputs": [],
   "source": []
  }
 ],
 "metadata": {
  "kernelspec": {
   "display_name": "Python 3",
   "language": "python",
   "name": "python3"
  },
  "language_info": {
   "codemirror_mode": {
    "name": "ipython",
    "version": 3
   },
   "file_extension": ".py",
   "mimetype": "text/x-python",
   "name": "python",
   "nbconvert_exporter": "python",
   "pygments_lexer": "ipython3",
   "version": "3.5.2"
  }
 },
 "nbformat": 4,
 "nbformat_minor": 2
}
