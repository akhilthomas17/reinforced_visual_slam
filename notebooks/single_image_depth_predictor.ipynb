{
 "cells": [
  {
   "cell_type": "code",
   "execution_count": null,
   "metadata": {},
   "outputs": [],
   "source": [
    "import tensorflow as tf\n",
    "from deepTAM.helpers2 import *\n",
    "from deepTAM.common_netcode.myHelpers import *\n",
    "gpu_options = tf.GPUOptions()\n",
    "gpu_options.per_process_gpu_memory_fraction=0.8\n",
    "sess = tf.InteractiveSession(config=tf.ConfigProto(allow_soft_placement=True, gpu_options=gpu_options))\n",
    "\n",
    "# Option 1\n",
    "saver = tf.train.import_meta_graph('/misc/lmbraid19/thomasa/deep-networks/deepTAM/nets_multiframes/depth_singleimage/training_v_sun3d/1_d_big/recovery_checkpoints/snapshot-391065.meta')\n",
    "saver.restore(sess, '/misc/lmbraid19/thomasa/deep-networks/deepTAM/nets_multiframes/depth_singleimage/training_v_sun3d/1_d_big/recovery_checkpoints/snapshot-391065')\n",
    "\n",
    "# Option 2 (Huizhong's way)\n",
    "from deepTAM.evaluation.helpers import *\n",
    "from tfutils import optimistic_restore\n",
    "import cv2\n",
    "import numpy as np\n",
    "\n",
    "mapping_mod = load_myNetworks_module_noname('/misc/lmbraid19/thomasa/deep-networks/deepTAM/nets_multiframes/depth_singleimage/net/myNetworks.py')\n",
    "single_image_depth_net = mapping_mod.SingleImageDepthNetwork(batch_size=1, width=320, height=240)\n",
    "single_image_depth_outputs = single_image_depth_net.build_net(**single_image_depth_net.placeholders)\n",
    "sess.run(tf.global_variables_initializer())\n",
    "checkpoint = '/misc/lmbraid19/thomasa/deep-networks/deepTAM/nets_multiframes/depth_singleimage/training_v_sun3d/1_d_big/recovery_checkpoints/snapshot-391065'\n",
    "optimistic_restore(sess,checkpoint,verbose=True)\n",
    "\t\n",
    "rgb = cv2.imread('/misc/lmbraid19/thomasa/datasets/rgbd/rgbd_dataset_freiburg1_teddy/rgb/1305032227.675702.png', -1)\n",
    "rgb_new = cv2.normalize(rgb, None, alpha=-0.5, beta=0.5, norm_type=cv2.NORM_MINMAX, dtype=cv2.CV_32F)\n",
    "rgb_new = cv2.resize(rgb_new,(320, 240))\n",
    "rgb_new = np.transpose(rgb_new, (2,0,1))\n",
    "\n",
    "feed_dict = {\n",
    "                single_image_depth_net.placeholders['image']: rgb_new[np.newaxis, :, :, :],\n",
    "            }\n",
    "\n",
    "single_image_depth_out = sess.run(single_image_depth_outputs, feed_dict=feed_dict)\n",
    "depth_pr = single_image_depth_out['predict_depth']\n",
    "\n",
    "cv2.imshow(\"predicted depth\", depth_pr[0,0])\n",
    "cv2.imshow(\"input image\", rgb)\n",
    "cv2.waitKey(0)"
   ]
  },
  {
   "cell_type": "code",
   "execution_count": 1,
   "metadata": {},
   "outputs": [
    {
     "ename": "ImportError",
     "evalue": "Traceback (most recent call last):\n  File \"/misc/lmbraid19/thomasa/virtual-env/demon_venv/lib/python3.5/site-packages/tensorflow/python/pywrap_tensorflow.py\", line 58, in <module>\n    from tensorflow.python.pywrap_tensorflow_internal import *\n  File \"/misc/lmbraid19/thomasa/virtual-env/demon_venv/lib/python3.5/site-packages/tensorflow/python/pywrap_tensorflow_internal.py\", line 28, in <module>\n    _pywrap_tensorflow_internal = swig_import_helper()\n  File \"/misc/lmbraid19/thomasa/virtual-env/demon_venv/lib/python3.5/site-packages/tensorflow/python/pywrap_tensorflow_internal.py\", line 24, in swig_import_helper\n    _mod = imp.load_module('_pywrap_tensorflow_internal', fp, pathname, description)\n  File \"/misc/lmbraid19/thomasa/virtual-env/demon_venv/lib/python3.5/imp.py\", line 242, in load_module\n    return load_dynamic(name, filename, file)\n  File \"/misc/lmbraid19/thomasa/virtual-env/demon_venv/lib/python3.5/imp.py\", line 342, in load_dynamic\n    return _load(spec)\nImportError: libcuda.so.1: cannot open shared object file: No such file or directory\n\n\nFailed to load the native TensorFlow runtime.\n\nSee https://www.tensorflow.org/install/install_sources#common_installation_problems\n\nfor some common reasons and solutions.  Include the entire stack trace\nabove this error message when asking for help.",
     "output_type": "error",
     "traceback": [
      "\u001b[0;31m---------------------------------------------------------------------------\u001b[0m",
      "\u001b[0;31mImportError\u001b[0m                               Traceback (most recent call last)",
      "\u001b[0;32m/misc/lmbraid19/thomasa/virtual-env/demon_venv/lib/python3.5/site-packages/tensorflow/python/pywrap_tensorflow.py\u001b[0m in \u001b[0;36m<module>\u001b[0;34m()\u001b[0m\n\u001b[1;32m     57\u001b[0m \u001b[0;34m\u001b[0m\u001b[0m\n\u001b[0;32m---> 58\u001b[0;31m   \u001b[0;32mfrom\u001b[0m \u001b[0mtensorflow\u001b[0m\u001b[0;34m.\u001b[0m\u001b[0mpython\u001b[0m\u001b[0;34m.\u001b[0m\u001b[0mpywrap_tensorflow_internal\u001b[0m \u001b[0;32mimport\u001b[0m \u001b[0;34m*\u001b[0m\u001b[0;34m\u001b[0m\u001b[0m\n\u001b[0m\u001b[1;32m     59\u001b[0m   \u001b[0;32mfrom\u001b[0m \u001b[0mtensorflow\u001b[0m\u001b[0;34m.\u001b[0m\u001b[0mpython\u001b[0m\u001b[0;34m.\u001b[0m\u001b[0mpywrap_tensorflow_internal\u001b[0m \u001b[0;32mimport\u001b[0m \u001b[0m__version__\u001b[0m\u001b[0;34m\u001b[0m\u001b[0m\n",
      "\u001b[0;32m/misc/lmbraid19/thomasa/virtual-env/demon_venv/lib/python3.5/site-packages/tensorflow/python/pywrap_tensorflow_internal.py\u001b[0m in \u001b[0;36m<module>\u001b[0;34m()\u001b[0m\n\u001b[1;32m     27\u001b[0m             \u001b[0;32mreturn\u001b[0m \u001b[0m_mod\u001b[0m\u001b[0;34m\u001b[0m\u001b[0m\n\u001b[0;32m---> 28\u001b[0;31m     \u001b[0m_pywrap_tensorflow_internal\u001b[0m \u001b[0;34m=\u001b[0m \u001b[0mswig_import_helper\u001b[0m\u001b[0;34m(\u001b[0m\u001b[0;34m)\u001b[0m\u001b[0;34m\u001b[0m\u001b[0m\n\u001b[0m\u001b[1;32m     29\u001b[0m     \u001b[0;32mdel\u001b[0m \u001b[0mswig_import_helper\u001b[0m\u001b[0;34m\u001b[0m\u001b[0m\n",
      "\u001b[0;32m/misc/lmbraid19/thomasa/virtual-env/demon_venv/lib/python3.5/site-packages/tensorflow/python/pywrap_tensorflow_internal.py\u001b[0m in \u001b[0;36mswig_import_helper\u001b[0;34m()\u001b[0m\n\u001b[1;32m     23\u001b[0m             \u001b[0;32mtry\u001b[0m\u001b[0;34m:\u001b[0m\u001b[0;34m\u001b[0m\u001b[0m\n\u001b[0;32m---> 24\u001b[0;31m                 \u001b[0m_mod\u001b[0m \u001b[0;34m=\u001b[0m \u001b[0mimp\u001b[0m\u001b[0;34m.\u001b[0m\u001b[0mload_module\u001b[0m\u001b[0;34m(\u001b[0m\u001b[0;34m'_pywrap_tensorflow_internal'\u001b[0m\u001b[0;34m,\u001b[0m \u001b[0mfp\u001b[0m\u001b[0;34m,\u001b[0m \u001b[0mpathname\u001b[0m\u001b[0;34m,\u001b[0m \u001b[0mdescription\u001b[0m\u001b[0;34m)\u001b[0m\u001b[0;34m\u001b[0m\u001b[0m\n\u001b[0m\u001b[1;32m     25\u001b[0m             \u001b[0;32mfinally\u001b[0m\u001b[0;34m:\u001b[0m\u001b[0;34m\u001b[0m\u001b[0m\n",
      "\u001b[0;32m/misc/lmbraid19/thomasa/virtual-env/demon_venv/lib/python3.5/imp.py\u001b[0m in \u001b[0;36mload_module\u001b[0;34m(name, file, filename, details)\u001b[0m\n\u001b[1;32m    241\u001b[0m         \u001b[0;32melse\u001b[0m\u001b[0;34m:\u001b[0m\u001b[0;34m\u001b[0m\u001b[0m\n\u001b[0;32m--> 242\u001b[0;31m             \u001b[0;32mreturn\u001b[0m \u001b[0mload_dynamic\u001b[0m\u001b[0;34m(\u001b[0m\u001b[0mname\u001b[0m\u001b[0;34m,\u001b[0m \u001b[0mfilename\u001b[0m\u001b[0;34m,\u001b[0m \u001b[0mfile\u001b[0m\u001b[0;34m)\u001b[0m\u001b[0;34m\u001b[0m\u001b[0m\n\u001b[0m\u001b[1;32m    243\u001b[0m     \u001b[0;32melif\u001b[0m \u001b[0mtype_\u001b[0m \u001b[0;34m==\u001b[0m \u001b[0mPKG_DIRECTORY\u001b[0m\u001b[0;34m:\u001b[0m\u001b[0;34m\u001b[0m\u001b[0m\n",
      "\u001b[0;32m/misc/lmbraid19/thomasa/virtual-env/demon_venv/lib/python3.5/imp.py\u001b[0m in \u001b[0;36mload_dynamic\u001b[0;34m(name, path, file)\u001b[0m\n\u001b[1;32m    341\u001b[0m             name=name, loader=loader, origin=path)\n\u001b[0;32m--> 342\u001b[0;31m         \u001b[0;32mreturn\u001b[0m \u001b[0m_load\u001b[0m\u001b[0;34m(\u001b[0m\u001b[0mspec\u001b[0m\u001b[0;34m)\u001b[0m\u001b[0;34m\u001b[0m\u001b[0m\n\u001b[0m\u001b[1;32m    343\u001b[0m \u001b[0;34m\u001b[0m\u001b[0m\n",
      "\u001b[0;31mImportError\u001b[0m: libcuda.so.1: cannot open shared object file: No such file or directory",
      "\nDuring handling of the above exception, another exception occurred:\n",
      "\u001b[0;31mImportError\u001b[0m                               Traceback (most recent call last)",
      "\u001b[0;32m<ipython-input-1-984925e3c048>\u001b[0m in \u001b[0;36m<module>\u001b[0;34m()\u001b[0m\n\u001b[0;32m----> 1\u001b[0;31m \u001b[0;32mimport\u001b[0m \u001b[0mtensorflow\u001b[0m \u001b[0;32mas\u001b[0m \u001b[0mtf\u001b[0m\u001b[0;34m\u001b[0m\u001b[0m\n\u001b[0m\u001b[1;32m      2\u001b[0m \u001b[0;32mfrom\u001b[0m \u001b[0mdeepTAM\u001b[0m\u001b[0;34m.\u001b[0m\u001b[0mhelpers2\u001b[0m \u001b[0;32mimport\u001b[0m \u001b[0;34m*\u001b[0m\u001b[0;34m\u001b[0m\u001b[0m\n\u001b[1;32m      3\u001b[0m \u001b[0;32mfrom\u001b[0m \u001b[0mdeepTAM\u001b[0m\u001b[0;34m.\u001b[0m\u001b[0mcommon_netcode\u001b[0m\u001b[0;34m.\u001b[0m\u001b[0mmyHelpers\u001b[0m \u001b[0;32mimport\u001b[0m \u001b[0;34m*\u001b[0m\u001b[0;34m\u001b[0m\u001b[0m\n\u001b[1;32m      4\u001b[0m \u001b[0;32mfrom\u001b[0m \u001b[0mdeepTAM\u001b[0m\u001b[0;34m.\u001b[0m\u001b[0mevaluation\u001b[0m\u001b[0;34m.\u001b[0m\u001b[0mhelpers\u001b[0m \u001b[0;32mimport\u001b[0m \u001b[0;34m*\u001b[0m\u001b[0;34m\u001b[0m\u001b[0m\n\u001b[1;32m      5\u001b[0m \u001b[0;32mfrom\u001b[0m \u001b[0mtfutils\u001b[0m \u001b[0;32mimport\u001b[0m \u001b[0moptimistic_restore\u001b[0m\u001b[0;34m\u001b[0m\u001b[0m\n",
      "\u001b[0;32m/misc/lmbraid19/thomasa/virtual-env/demon_venv/lib/python3.5/site-packages/tensorflow/__init__.py\u001b[0m in \u001b[0;36m<module>\u001b[0;34m()\u001b[0m\n\u001b[1;32m     22\u001b[0m \u001b[0;34m\u001b[0m\u001b[0m\n\u001b[1;32m     23\u001b[0m \u001b[0;31m# pylint: disable=wildcard-import\u001b[0m\u001b[0;34m\u001b[0m\u001b[0;34m\u001b[0m\u001b[0m\n\u001b[0;32m---> 24\u001b[0;31m \u001b[0;32mfrom\u001b[0m \u001b[0mtensorflow\u001b[0m\u001b[0;34m.\u001b[0m\u001b[0mpython\u001b[0m \u001b[0;32mimport\u001b[0m \u001b[0;34m*\u001b[0m\u001b[0;34m\u001b[0m\u001b[0m\n\u001b[0m\u001b[1;32m     25\u001b[0m \u001b[0;31m# pylint: enable=wildcard-import\u001b[0m\u001b[0;34m\u001b[0m\u001b[0;34m\u001b[0m\u001b[0m\n\u001b[1;32m     26\u001b[0m \u001b[0;34m\u001b[0m\u001b[0m\n",
      "\u001b[0;32m/misc/lmbraid19/thomasa/virtual-env/demon_venv/lib/python3.5/site-packages/tensorflow/python/__init__.py\u001b[0m in \u001b[0;36m<module>\u001b[0;34m()\u001b[0m\n\u001b[1;32m     47\u001b[0m \u001b[0;32mimport\u001b[0m \u001b[0mnumpy\u001b[0m \u001b[0;32mas\u001b[0m \u001b[0mnp\u001b[0m\u001b[0;34m\u001b[0m\u001b[0m\n\u001b[1;32m     48\u001b[0m \u001b[0;34m\u001b[0m\u001b[0m\n\u001b[0;32m---> 49\u001b[0;31m \u001b[0;32mfrom\u001b[0m \u001b[0mtensorflow\u001b[0m\u001b[0;34m.\u001b[0m\u001b[0mpython\u001b[0m \u001b[0;32mimport\u001b[0m \u001b[0mpywrap_tensorflow\u001b[0m\u001b[0;34m\u001b[0m\u001b[0m\n\u001b[0m\u001b[1;32m     50\u001b[0m \u001b[0;34m\u001b[0m\u001b[0m\n\u001b[1;32m     51\u001b[0m \u001b[0;31m# Protocol buffers\u001b[0m\u001b[0;34m\u001b[0m\u001b[0;34m\u001b[0m\u001b[0m\n",
      "\u001b[0;32m/misc/lmbraid19/thomasa/virtual-env/demon_venv/lib/python3.5/site-packages/tensorflow/python/pywrap_tensorflow.py\u001b[0m in \u001b[0;36m<module>\u001b[0;34m()\u001b[0m\n\u001b[1;32m     70\u001b[0m \u001b[0;32mfor\u001b[0m \u001b[0msome\u001b[0m \u001b[0mcommon\u001b[0m \u001b[0mreasons\u001b[0m \u001b[0;32mand\u001b[0m \u001b[0msolutions\u001b[0m\u001b[0;34m.\u001b[0m  \u001b[0mInclude\u001b[0m \u001b[0mthe\u001b[0m \u001b[0mentire\u001b[0m \u001b[0mstack\u001b[0m \u001b[0mtrace\u001b[0m\u001b[0;34m\u001b[0m\u001b[0m\n\u001b[1;32m     71\u001b[0m above this error message when asking for help.\"\"\" % traceback.format_exc()\n\u001b[0;32m---> 72\u001b[0;31m   \u001b[0;32mraise\u001b[0m \u001b[0mImportError\u001b[0m\u001b[0;34m(\u001b[0m\u001b[0mmsg\u001b[0m\u001b[0;34m)\u001b[0m\u001b[0;34m\u001b[0m\u001b[0m\n\u001b[0m\u001b[1;32m     73\u001b[0m \u001b[0;34m\u001b[0m\u001b[0m\n\u001b[1;32m     74\u001b[0m \u001b[0;31m# pylint: enable=wildcard-import,g-import-not-at-top,unused-import,line-too-long\u001b[0m\u001b[0;34m\u001b[0m\u001b[0;34m\u001b[0m\u001b[0m\n",
      "\u001b[0;31mImportError\u001b[0m: Traceback (most recent call last):\n  File \"/misc/lmbraid19/thomasa/virtual-env/demon_venv/lib/python3.5/site-packages/tensorflow/python/pywrap_tensorflow.py\", line 58, in <module>\n    from tensorflow.python.pywrap_tensorflow_internal import *\n  File \"/misc/lmbraid19/thomasa/virtual-env/demon_venv/lib/python3.5/site-packages/tensorflow/python/pywrap_tensorflow_internal.py\", line 28, in <module>\n    _pywrap_tensorflow_internal = swig_import_helper()\n  File \"/misc/lmbraid19/thomasa/virtual-env/demon_venv/lib/python3.5/site-packages/tensorflow/python/pywrap_tensorflow_internal.py\", line 24, in swig_import_helper\n    _mod = imp.load_module('_pywrap_tensorflow_internal', fp, pathname, description)\n  File \"/misc/lmbraid19/thomasa/virtual-env/demon_venv/lib/python3.5/imp.py\", line 242, in load_module\n    return load_dynamic(name, filename, file)\n  File \"/misc/lmbraid19/thomasa/virtual-env/demon_venv/lib/python3.5/imp.py\", line 342, in load_dynamic\n    return _load(spec)\nImportError: libcuda.so.1: cannot open shared object file: No such file or directory\n\n\nFailed to load the native TensorFlow runtime.\n\nSee https://www.tensorflow.org/install/install_sources#common_installation_problems\n\nfor some common reasons and solutions.  Include the entire stack trace\nabove this error message when asking for help."
     ]
    }
   ],
   "source": [
    "import tensorflow as tf\n",
    "from deepTAM.helpers2 import *\n",
    "from deepTAM.common_netcode.myHelpers import *\n",
    "from deepTAM.evaluation.helpers import *\n",
    "from tfutils import optimistic_restore\n",
    "import cv2\n",
    "import numpy as np\n",
    "from cv_bridge import CvBridge"
   ]
  },
  {
   "cell_type": "code",
   "execution_count": 2,
   "metadata": {},
   "outputs": [],
   "source": [
    "gpu_options = tf.GPUOptions()\n",
    "gpu_options.per_process_gpu_memory_fraction=0.8\n",
    "sess = tf.InteractiveSession(config=tf.ConfigProto(allow_soft_placement=True, gpu_options=gpu_options))\n"
   ]
  },
  {
   "cell_type": "code",
   "execution_count": 3,
   "metadata": {},
   "outputs": [
    {
     "name": "stdout",
     "output_type": "stream",
     "text": [
      "Tensor(\"net_D_boot_big/depth_org_reso/conv0x/LeakyRelu:0\", shape=(1, 32, 240, 320), dtype=float32) Tensor(\"net_D_boot_big/depth_org_reso/conv0_1x/LeakyRelu:0\", shape=(1, 32, 240, 320), dtype=float32)\n",
      "Tensor(\"net_D_boot_big/depth_org_reso/conv1x/LeakyRelu:0\", shape=(1, 64, 120, 160), dtype=float32) Tensor(\"net_D_boot_big/depth_org_reso/conv1_1x/LeakyRelu:0\", shape=(1, 64, 120, 160), dtype=float32)\n",
      "Tensor(\"net_D_boot_big/depth_org_reso/conv2x/LeakyRelu:0\", shape=(1, 128, 60, 80), dtype=float32) Tensor(\"net_D_boot_big/depth_org_reso/conv2_1x/LeakyRelu:0\", shape=(1, 128, 60, 80), dtype=float32)\n",
      "Tensor(\"net_D_boot_big/depth_org_reso/conv3x/LeakyRelu:0\", shape=(1, 256, 30, 40), dtype=float32) Tensor(\"net_D_boot_big/depth_org_reso/conv3_1x/LeakyRelu:0\", shape=(1, 256, 30, 40), dtype=float32)\n",
      "Tensor(\"net_D_boot_big/depth_org_reso/conv4x/LeakyRelu:0\", shape=(1, 512, 15, 20), dtype=float32) Tensor(\"net_D_boot_big/depth_org_reso/conv4_1x/LeakyRelu:0\", shape=(1, 512, 15, 20), dtype=float32)\n",
      "Tensor(\"net_D_boot_big/depth_org_reso/refine4/concat:0\", shape=(1, 512, 30, 40), dtype=float32)\n",
      "Tensor(\"net_D_boot_big/depth_org_reso/refine3/concat:0\", shape=(1, 256, 60, 80), dtype=float32)\n",
      "Tensor(\"net_D_boot_big/depth_org_reso/refine2/concat:0\", shape=(1, 128, 120, 160), dtype=float32)\n",
      "Tensor(\"net_D_boot_big/depth_org_reso/refine1/concat:0\", shape=(1, 64, 240, 320), dtype=float32)\n",
      "Tensor(\"net_D_boot_big/depth_org_reso/predict_depth0/conv2/BiasAdd:0\", shape=(1, 1, 240, 320), dtype=float32)\n",
      "================================================================================\n",
      "{'predict_depth0': <tf.Tensor 'net_D_boot_big/depth_org_reso/predict_depth0/conv2/BiasAdd:0' shape=(1, 1, 240, 320) dtype=float32>, 'depth_features': <tf.Tensor 'net_D_boot_big/depth_org_reso/conv4_1x/LeakyRelu:0' shape=(1, 512, 15, 20) dtype=float32>}\n",
      "restoring     net_D_boot_big/depth_org_reso/conv0_1x/bias\n",
      "restoring     net_D_boot_big/depth_org_reso/conv0_1x/kernel\n",
      "restoring     net_D_boot_big/depth_org_reso/conv0_1y/bias\n",
      "restoring     net_D_boot_big/depth_org_reso/conv0_1y/kernel\n",
      "restoring     net_D_boot_big/depth_org_reso/conv0x/bias\n",
      "restoring     net_D_boot_big/depth_org_reso/conv0x/kernel\n",
      "restoring     net_D_boot_big/depth_org_reso/conv0y/bias\n",
      "restoring     net_D_boot_big/depth_org_reso/conv0y/kernel\n",
      "restoring     net_D_boot_big/depth_org_reso/conv1_1x/bias\n",
      "restoring     net_D_boot_big/depth_org_reso/conv1_1x/kernel\n",
      "restoring     net_D_boot_big/depth_org_reso/conv1_1y/bias\n",
      "restoring     net_D_boot_big/depth_org_reso/conv1_1y/kernel\n",
      "restoring     net_D_boot_big/depth_org_reso/conv1x/bias\n",
      "restoring     net_D_boot_big/depth_org_reso/conv1x/kernel\n",
      "restoring     net_D_boot_big/depth_org_reso/conv1y/bias\n",
      "restoring     net_D_boot_big/depth_org_reso/conv1y/kernel\n",
      "restoring     net_D_boot_big/depth_org_reso/conv2_1x/bias\n",
      "restoring     net_D_boot_big/depth_org_reso/conv2_1x/kernel\n",
      "restoring     net_D_boot_big/depth_org_reso/conv2_1y/bias\n",
      "restoring     net_D_boot_big/depth_org_reso/conv2_1y/kernel\n",
      "restoring     net_D_boot_big/depth_org_reso/conv2x/bias\n",
      "restoring     net_D_boot_big/depth_org_reso/conv2x/kernel\n",
      "restoring     net_D_boot_big/depth_org_reso/conv2y/bias\n",
      "restoring     net_D_boot_big/depth_org_reso/conv2y/kernel\n",
      "restoring     net_D_boot_big/depth_org_reso/conv3_1x/bias\n",
      "restoring     net_D_boot_big/depth_org_reso/conv3_1x/kernel\n",
      "restoring     net_D_boot_big/depth_org_reso/conv3_1y/bias\n",
      "restoring     net_D_boot_big/depth_org_reso/conv3_1y/kernel\n",
      "restoring     net_D_boot_big/depth_org_reso/conv3x/bias\n",
      "restoring     net_D_boot_big/depth_org_reso/conv3x/kernel\n",
      "restoring     net_D_boot_big/depth_org_reso/conv3y/bias\n",
      "restoring     net_D_boot_big/depth_org_reso/conv3y/kernel\n",
      "restoring     net_D_boot_big/depth_org_reso/conv4_1x/bias\n",
      "restoring     net_D_boot_big/depth_org_reso/conv4_1x/kernel\n",
      "restoring     net_D_boot_big/depth_org_reso/conv4_1y/bias\n",
      "restoring     net_D_boot_big/depth_org_reso/conv4_1y/kernel\n",
      "restoring     net_D_boot_big/depth_org_reso/conv4x/bias\n",
      "restoring     net_D_boot_big/depth_org_reso/conv4x/kernel\n",
      "restoring     net_D_boot_big/depth_org_reso/conv4y/bias\n",
      "restoring     net_D_boot_big/depth_org_reso/conv4y/kernel\n",
      "restoring     net_D_boot_big/depth_org_reso/predict_depth0/conv1/bias\n",
      "restoring     net_D_boot_big/depth_org_reso/predict_depth0/conv1/kernel\n",
      "restoring     net_D_boot_big/depth_org_reso/predict_depth0/conv2/bias\n",
      "restoring     net_D_boot_big/depth_org_reso/predict_depth0/conv2/kernel\n",
      "restoring     net_D_boot_big/depth_org_reso/refine1/upconv/bias\n",
      "restoring     net_D_boot_big/depth_org_reso/refine1/upconv/kernel\n",
      "restoring     net_D_boot_big/depth_org_reso/refine2/upconv/bias\n",
      "restoring     net_D_boot_big/depth_org_reso/refine2/upconv/kernel\n",
      "restoring     net_D_boot_big/depth_org_reso/refine3/upconv/bias\n",
      "restoring     net_D_boot_big/depth_org_reso/refine3/upconv/kernel\n",
      "restoring     net_D_boot_big/depth_org_reso/refine4/upconv/bias\n",
      "restoring     net_D_boot_big/depth_org_reso/refine4/upconv/kernel\n",
      "INFO:tensorflow:Restoring parameters from /misc/lmbraid19/thomasa/deep-networks/deepTAM/nets_multiframes/depth_singleimage/training_v_sun3d/1_d_big/recovery_checkpoints/snapshot-391065\n"
     ]
    }
   ],
   "source": [
    "mapping_mod = load_myNetworks_module_noname('/misc/lmbraid19/thomasa/deep-networks/deepTAM/nets_multiframes/depth_singleimage/net/myNetworks.py')\n",
    "single_image_depth_net = mapping_mod.SingleImageDepthNetwork(batch_size=1, width=320, height=240)\n",
    "single_image_depth_outputs = single_image_depth_net.build_net(**single_image_depth_net.placeholders)\n",
    "sess.run(tf.global_variables_initializer())\n",
    "checkpoint = '/misc/lmbraid19/thomasa/deep-networks/deepTAM/nets_multiframes/depth_singleimage/training_v_sun3d/1_d_big/recovery_checkpoints/snapshot-391065'\n",
    "optimistic_restore(sess,checkpoint,verbose=True)\n"
   ]
  },
  {
   "cell_type": "code",
   "execution_count": 4,
   "metadata": {},
   "outputs": [],
   "source": [
    "rgb = cv2.imread('/misc/lmbraid19/thomasa/datasets/rgbd/rgbd_dataset_freiburg1_teddy/rgb/1305032227.675702.png', -1)\n",
    "rgb_new = cv2.normalize(rgb, None, alpha=-0.5, beta=0.5, norm_type=cv2.NORM_MINMAX, dtype=cv2.CV_32F)\n",
    "rgb_new = cv2.resize(rgb_new,(320, 240))\n",
    "rgb_new = np.transpose(rgb_new, (2,0,1))\n"
   ]
  },
  {
   "cell_type": "code",
   "execution_count": 5,
   "metadata": {},
   "outputs": [],
   "source": [
    "feed_dict = {\n",
    "                single_image_depth_net.placeholders['image']: rgb_new[np.newaxis, :, :, :],\n",
    "            }\n",
    "\n",
    "single_image_depth_out = sess.run(single_image_depth_outputs, feed_dict=feed_dict)"
   ]
  },
  {
   "cell_type": "code",
   "execution_count": 7,
   "metadata": {},
   "outputs": [],
   "source": [
    "depth_pr = single_image_depth_out['predict_depth'][0,0]\n"
   ]
  },
  {
   "cell_type": "code",
   "execution_count": 9,
   "metadata": {},
   "outputs": [],
   "source": [
    "_cv_bridge_depth = CvBridge()"
   ]
  },
  {
   "cell_type": "code",
   "execution_count": 3,
   "metadata": {},
   "outputs": [
    {
     "ename": "NameError",
     "evalue": "name '_cv_bridge_depth' is not defined",
     "output_type": "error",
     "traceback": [
      "\u001b[0;31m---------------------------------------------------------------------------\u001b[0m",
      "\u001b[0;31mNameError\u001b[0m                                 Traceback (most recent call last)",
      "\u001b[0;32m<ipython-input-3-3f70fcea9117>\u001b[0m in \u001b[0;36m<module>\u001b[0;34m()\u001b[0m\n\u001b[0;32m----> 1\u001b[0;31m \u001b[0mdepthmap_predicted_msg\u001b[0m \u001b[0;34m=\u001b[0m \u001b[0m_cv_bridge_depth\u001b[0m\u001b[0;34m.\u001b[0m\u001b[0mcv2_to_imgmsg\u001b[0m\u001b[0;34m(\u001b[0m\u001b[0mdepth_pr\u001b[0m\u001b[0;34m,\u001b[0m \u001b[0;34m\"passthrough\"\u001b[0m\u001b[0;34m)\u001b[0m\u001b[0;34m\u001b[0m\u001b[0m\n\u001b[0m",
      "\u001b[0;31mNameError\u001b[0m: name '_cv_bridge_depth' is not defined"
     ]
    }
   ],
   "source": [
    "depthmap_predicted_msg = _cv_bridge_depth.cv2_to_imgmsg(depth_pr, \"passthrough\")"
   ]
  },
  {
   "cell_type": "code",
   "execution_count": 2,
   "metadata": {},
   "outputs": [
    {
     "ename": "NameError",
     "evalue": "name 'depthmap_predicted_msg' is not defined",
     "output_type": "error",
     "traceback": [
      "\u001b[0;31m---------------------------------------------------------------------------\u001b[0m",
      "\u001b[0;31mNameError\u001b[0m                                 Traceback (most recent call last)",
      "\u001b[0;32m<ipython-input-2-fc755481eae6>\u001b[0m in \u001b[0;36m<module>\u001b[0;34m()\u001b[0m\n\u001b[0;32m----> 1\u001b[0;31m \u001b[0mtype\u001b[0m\u001b[0;34m(\u001b[0m\u001b[0mdepthmap_predicted_msg\u001b[0m\u001b[0;34m.\u001b[0m\u001b[0mstep\u001b[0m\u001b[0;34m)\u001b[0m\u001b[0;34m\u001b[0m\u001b[0m\n\u001b[0m",
      "\u001b[0;31mNameError\u001b[0m: name 'depthmap_predicted_msg' is not defined"
     ]
    }
   ],
   "source": []
  },
  {
   "cell_type": "code",
   "execution_count": 15,
   "metadata": {},
   "outputs": [],
   "source": [
    "depthmap_predicted_msg.step = int (depthmap_predicted_msg.step)\n",
    "depthmap_predicted_msg.step"
   ]
  },
  {
   "cell_type": "code",
   "execution_count": null,
   "metadata": {},
   "outputs": [],
   "source": []
  }
 ],
 "metadata": {
  "kernelspec": {
   "display_name": "Python 3",
   "language": "python",
   "name": "python3"
  },
  "language_info": {
   "codemirror_mode": {
    "name": "ipython",
    "version": 3
   },
   "file_extension": ".py",
   "mimetype": "text/x-python",
   "name": "python",
   "nbconvert_exporter": "python",
   "pygments_lexer": "ipython3",
   "version": "3.5.2"
  }
 },
 "nbformat": 4,
 "nbformat_minor": 2
}
